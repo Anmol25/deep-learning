{
 "cells": [
  {
   "cell_type": "code",
   "execution_count": 1,
   "metadata": {},
   "outputs": [],
   "source": [
    "import torch\n",
    "import torchvision\n",
    "from torch.utils import data\n",
    "from torchvision import transforms\n",
    "import numpy as np\n",
    "import torch.nn as nn\n",
    "import matplotlib.pyplot as plt\n",
    "\n",
    "# Set random seed for reproducibility\n",
    "torch.manual_seed(42)\n",
    "\n",
    "# Data Transformation\n",
    "trans = transforms.ToTensor()\n",
    "\n",
    "# Download and load FashionMNIST dataset\n",
    "mnist_train = torchvision.datasets.FashionMNIST(root=\"../data\", train=True, transform=trans, download=True)\n",
    "mnist_test = torchvision.datasets.FashionMNIST(root=\"../data\", train=False, transform=trans, download=True)\n",
    "\n",
    "# DataLoader\n",
    "train_iter = data.DataLoader(mnist_train, batch_size=256, shuffle=True)\n",
    "test_iter = data.DataLoader(mnist_test, batch_size=256, shuffle=False)"
   ]
  },
  {
   "cell_type": "code",
   "execution_count": 2,
   "metadata": {},
   "outputs": [
    {
     "name": "stdout",
     "output_type": "stream",
     "text": [
      "Using device: cuda\n"
     ]
    }
   ],
   "source": [
    "device = torch.device(\"cuda\" if torch.cuda.is_available() else \"cpu\")\n",
    "print(f\"Using device: {device}\")"
   ]
  },
  {
   "cell_type": "code",
   "execution_count": 8,
   "metadata": {},
   "outputs": [],
   "source": [
    "# Inputs : 784, Hidden Layer Units: 256, Output: 10\n",
    "class MLP(nn.Module):\n",
    "\n",
    "    def __init__(self):\n",
    "        super().__init__()\n",
    "        self.network = nn.Sequential(\n",
    "            nn.Flatten(),\n",
    "            nn.Linear(784,256),\n",
    "            nn.ReLU(),\n",
    "            nn.Linear(256, 10)\n",
    "        )\n",
    "\n",
    "    def forward(self,X):\n",
    "        return self.network(X)\n",
    "    \n",
    "    def predict(self, X):\n",
    "        # Forward pass and return predicted class\n",
    "        probs = self.forward(X)\n",
    "        return torch.argmax(probs, dim=1)"
   ]
  },
  {
   "cell_type": "code",
   "execution_count": 13,
   "metadata": {},
   "outputs": [
    {
     "data": {
      "text/plain": [
       "==========================================================================================\n",
       "Layer (type:depth-idx)                   Output Shape              Param #\n",
       "==========================================================================================\n",
       "MLP                                      [256, 10]                 --\n",
       "├─Sequential: 1-1                        [256, 10]                 --\n",
       "│    └─Flatten: 2-1                      [256, 784]                --\n",
       "│    └─Linear: 2-2                       [256, 256]                200,960\n",
       "│    └─ReLU: 2-3                         [256, 256]                --\n",
       "│    └─Linear: 2-4                       [256, 10]                 2,570\n",
       "==========================================================================================\n",
       "Total params: 203,530\n",
       "Trainable params: 203,530\n",
       "Non-trainable params: 0\n",
       "Total mult-adds (Units.MEGABYTES): 52.10\n",
       "==========================================================================================\n",
       "Input size (MB): 0.80\n",
       "Forward/backward pass size (MB): 0.54\n",
       "Params size (MB): 0.81\n",
       "Estimated Total Size (MB): 2.16\n",
       "=========================================================================================="
      ]
     },
     "execution_count": 13,
     "metadata": {},
     "output_type": "execute_result"
    }
   ],
   "source": [
    "from torchinfo import summary\n",
    "\n",
    "model = MLP()\n",
    "summary(model,input_size=(256,28,28))"
   ]
  },
  {
   "cell_type": "code",
   "execution_count": 18,
   "metadata": {},
   "outputs": [],
   "source": [
    "model.to(device)\n",
    "\n",
    "batch_size, lr, epochs = 256, 0.1, 10\n",
    "loss_func = nn.CrossEntropyLoss()\n",
    "optimizer = torch.optim.SGD(model.parameters(),lr=lr)"
   ]
  },
  {
   "cell_type": "code",
   "execution_count": 19,
   "metadata": {},
   "outputs": [],
   "source": [
    "# Evaluation\n",
    "def evaluate_accuracy(model, data_iter):\n",
    "    correct_predictions = 0\n",
    "    total_samples = 0\n",
    "    \n",
    "    with torch.no_grad():\n",
    "        for X, y in data_iter:\n",
    "            X,y = X.to(device), y.to(device)\n",
    "            y_pred = model.predict(X)\n",
    "            correct_predictions += (y_pred == y).sum().item()\n",
    "            total_samples += y.size(0)\n",
    "    \n",
    "    return correct_predictions / total_samples"
   ]
  },
  {
   "cell_type": "code",
   "execution_count": 20,
   "metadata": {},
   "outputs": [],
   "source": [
    "# Train \n",
    "def train_loop(train_iter,model,optimizer,loss_func):\n",
    "    train_total = 0\n",
    "    train_correct = 0\n",
    "    for X,y in train_iter:\n",
    "        X,y = X.to(device), y.to(device)\n",
    "        \n",
    "        # forward pass\n",
    "        y_pred = model.forward(X)\n",
    "        \n",
    "        # calculate loss\n",
    "        loss = loss_func(y_pred,y)\n",
    "        \n",
    "        # clear gradients\n",
    "        optimizer.zero_grad()\n",
    "\n",
    "        # backward pass\n",
    "        loss.backward()\n",
    "        \n",
    "        # update params\n",
    "        optimizer.step()\n",
    "\n",
    "        # calculate train acc\n",
    "        _, predicted = torch.max(y_pred, 1)  # Get the predicted class\n",
    "        train_total += y.size(0)  # Total number of samples\n",
    "        train_correct += (predicted == y).sum().item()  # Correct predictions\n",
    "\n",
    "    # Calculate metrics\n",
    "    train_loss = torch.Tensor.item(loss.mean())\n",
    "    train_acc = train_correct / train_total\n",
    "    \n",
    "    return train_loss, train_acc"
   ]
  },
  {
   "cell_type": "code",
   "execution_count": 21,
   "metadata": {},
   "outputs": [],
   "source": [
    "# Train Function\n",
    "def train_model(train_iter, test_iter,model,optimizer,loss_func,epochs):\n",
    "    train_loss = []\n",
    "    train_acc = []\n",
    "    test_accuracy = []\n",
    "    for epoch in range(0,epochs):\n",
    "        train_metrics = train_loop(train_iter,model,optimizer,loss_func)\n",
    "        test_acc = evaluate_accuracy(model,train_iter)\n",
    "        train_loss.append(train_metrics[0])\n",
    "        train_acc.append(train_metrics[1])\n",
    "        test_accuracy.append(test_acc)\n",
    "        # print loss in each epoch\n",
    "        print(f'Epoch: {epoch + 1}, Loss: {train_metrics[0]}, Train Accuracy: {train_metrics[1]}, Test Accuracy: {test_acc}')\n",
    "    \n",
    "    return train_loss, train_acc, test_accuracy\n",
    "        "
   ]
  },
  {
   "cell_type": "code",
   "execution_count": 22,
   "metadata": {},
   "outputs": [
    {
     "name": "stdout",
     "output_type": "stream",
     "text": [
      "Epoch: 1, Loss: 0.8555775284767151, Train Accuracy: 0.6301666666666667, Test Accuracy: 0.7069666666666666\n",
      "Epoch: 2, Loss: 0.7118013501167297, Train Accuracy: 0.7313, Test Accuracy: 0.74205\n",
      "Epoch: 3, Loss: 0.5956481695175171, Train Accuracy: 0.77095, Test Accuracy: 0.7777333333333334\n",
      "Epoch: 4, Loss: 0.5732830166816711, Train Accuracy: 0.7832833333333333, Test Accuracy: 0.7938333333333333\n",
      "Epoch: 5, Loss: 0.5396181344985962, Train Accuracy: 0.8012333333333334, Test Accuracy: 0.8142333333333334\n",
      "Epoch: 6, Loss: 0.5246901512145996, Train Accuracy: 0.8128666666666666, Test Accuracy: 0.8236833333333333\n",
      "Epoch: 7, Loss: 0.5250496864318848, Train Accuracy: 0.8133166666666667, Test Accuracy: 0.8193833333333334\n",
      "Epoch: 8, Loss: 0.4810226559638977, Train Accuracy: 0.8242166666666667, Test Accuracy: 0.8348833333333333\n",
      "Epoch: 9, Loss: 0.5048136115074158, Train Accuracy: 0.8278, Test Accuracy: 0.8367\n",
      "Epoch: 10, Loss: 0.4878482222557068, Train Accuracy: 0.8299333333333333, Test Accuracy: 0.8123166666666667\n"
     ]
    }
   ],
   "source": [
    "# Train model\n",
    "metrics = train_model(train_iter,test_iter, model, optimizer, loss_func, epochs)"
   ]
  },
  {
   "cell_type": "code",
   "execution_count": 25,
   "metadata": {},
   "outputs": [],
   "source": [
    "plt.style.use('ggplot')"
   ]
  },
  {
   "cell_type": "code",
   "execution_count": 26,
   "metadata": {},
   "outputs": [],
   "source": [
    "import seaborn as sns\n",
    "\n",
    "def plot_graph(metrics):\n",
    "    sns.lineplot(metrics[0], label = \"Train Loss\")\n",
    "    sns.lineplot(metrics[1], label = \"Train Accuracy\")\n",
    "    sns.lineplot(metrics[2], label = \"Test Accuracy\")\n",
    "    plt.show()"
   ]
  },
  {
   "cell_type": "code",
   "execution_count": 27,
   "metadata": {},
   "outputs": [
    {
     "data": {
      "image/png": "[encoded data removed]",
      "text/plain": [
       "<Figure size 640x480 with 1 Axes>"
      ]
     },
     "metadata": {},
     "output_type": "display_data"
    }
   ],
   "source": [
    "plot_graph(metrics)"
   ]
  },
  {
   "cell_type": "code",
   "execution_count": null,
   "metadata": {},
   "outputs": [],
   "source": []
  }
 ],
 "metadata": {
  "kernelspec": {
   "display_name": ".venv",
   "language": "python",
   "name": "python3"
  },
  "language_info": {
   "codemirror_mode": {
    "name": "ipython",
    "version": 3
   },
   "file_extension": ".py",
   "mimetype": "text/x-python",
   "name": "python",
   "nbconvert_exporter": "python",
   "pygments_lexer": "ipython3",
   "version": "3.12.3"
  }
 },
 "nbformat": 4,
 "nbformat_minor": 2
}
