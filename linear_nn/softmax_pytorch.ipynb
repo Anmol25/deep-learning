{
 "cells": [
  {
   "cell_type": "code",
   "execution_count": 13,
   "id": "d3998407-b046-4587-863f-c509338e3482",
   "metadata": {},
   "outputs": [],
   "source": [
    "import torch\n",
    "import torchvision\n",
    "from torch.utils import data\n",
    "from torchvision import transforms\n",
    "import numpy as np\n",
    "import torch.nn as nn\n",
    "import matplotlib.pyplot as plt\n",
    "plt.style.use('ggplot')\n",
    "\n",
    "# Set random seed for reproducibility\n",
    "torch.manual_seed(42)\n",
    "\n",
    "# Data Transformation\n",
    "trans = transforms.ToTensor()\n",
    "\n",
    "# Download and load FashionMNIST dataset\n",
    "mnist_train = torchvision.datasets.FashionMNIST(root=\"../data\", train=True, transform=trans, download=True)\n",
    "mnist_test = torchvision.datasets.FashionMNIST(root=\"../data\", train=False, transform=trans, download=True)\n",
    "\n",
    "# DataLoader\n",
    "train_iter = data.DataLoader(mnist_train, batch_size=1000, shuffle=True)\n",
    "test_iter = data.DataLoader(mnist_test, batch_size=1000, shuffle=False)"
   ]
  },
  {
   "cell_type": "code",
   "execution_count": 14,
   "id": "02f5b074-fe66-4a7b-a2dc-bbc3a62a3435",
   "metadata": {},
   "outputs": [
    {
     "name": "stdout",
     "output_type": "stream",
     "text": [
      "Using device: cuda\n"
     ]
    }
   ],
   "source": [
    "device = torch.device(\"cuda\" if torch.cuda.is_available() else \"cpu\")\n",
    "print(f\"Using device: {device}\")"
   ]
  },
  {
   "cell_type": "code",
   "execution_count": 15,
   "id": "9d9ebb9d-8f55-49c3-ad32-17189333c1a3",
   "metadata": {},
   "outputs": [],
   "source": [
    "class SoftMaxClassifier(nn.Module):\n",
    "    def __init__(self, num_features,num_outputs):\n",
    "        \n",
    "        super().__init__()\n",
    "        self.network = nn.Sequential(\n",
    "            nn.Flatten(),\n",
    "            nn.Linear(num_features,num_outputs)\n",
    "        )\n",
    "    \n",
    "    def forward(self,X):\n",
    "        return self.network(X)\n",
    "\n",
    "    def predict(self, X):\n",
    "        # Forward pass and return predicted class\n",
    "        probs = self.forward(X)\n",
    "        return torch.argmax(probs, dim=1)"
   ]
  },
  {
   "cell_type": "code",
   "execution_count": 16,
   "id": "6a363265",
   "metadata": {},
   "outputs": [],
   "source": [
    "# Evaluation\n",
    "def evaluate_accuracy(model, data_iter):\n",
    "    correct_predictions = 0\n",
    "    total_samples = 0\n",
    "    \n",
    "    with torch.no_grad():\n",
    "        for X, y in data_iter:\n",
    "            X,y = X.to(device), y.to(device)\n",
    "            y_pred = model.predict(X)\n",
    "            correct_predictions += (y_pred == y).sum().item()\n",
    "            total_samples += y.size(0)\n",
    "    \n",
    "    return correct_predictions / total_samples"
   ]
  },
  {
   "cell_type": "code",
   "execution_count": 17,
   "id": "fcfe115a-58c0-4e79-8e22-0ea1e9751eb6",
   "metadata": {},
   "outputs": [],
   "source": [
    "## Important parameter\n",
    "num_inputs = 784\n",
    "num_outputs = 10\n",
    "loss_func = nn.CrossEntropyLoss()"
   ]
  },
  {
   "cell_type": "code",
   "execution_count": 18,
   "id": "90aa691f-54c4-43a9-a20c-ccb79205998f",
   "metadata": {},
   "outputs": [],
   "source": [
    "lr = 0.1\n",
    "epochs = 15"
   ]
  },
  {
   "cell_type": "code",
   "execution_count": 19,
   "id": "b2230da5-faf0-45a1-8343-43477d1653c3",
   "metadata": {},
   "outputs": [],
   "source": [
    "model = SoftMaxClassifier(num_inputs,num_outputs)\n",
    "model.to(device)\n",
    "optimizer = torch.optim.SGD(model.parameters(),lr= lr)"
   ]
  },
  {
   "cell_type": "code",
   "execution_count": 20,
   "id": "248da0e7",
   "metadata": {},
   "outputs": [],
   "source": [
    "# Train \n",
    "def train_loop(train_iter,model,optimizer,loss_func):\n",
    "    train_total = 0\n",
    "    train_correct = 0\n",
    "    for X,y in train_iter:\n",
    "        X,y = X.to(device), y.to(device)\n",
    "        \n",
    "        # forward pass\n",
    "        y_pred = model.forward(X)\n",
    "        \n",
    "        # calculate loss\n",
    "        loss = loss_func(y_pred,y)\n",
    "        \n",
    "        # clear gradients\n",
    "        optimizer.zero_grad()\n",
    "\n",
    "        # backward pass\n",
    "        loss.backward()\n",
    "        \n",
    "        # update params\n",
    "        optimizer.step()\n",
    "\n",
    "        # calculate train acc\n",
    "        _, predicted = torch.max(y_pred, 1)  # Get the predicted class\n",
    "        train_total += y.size(0)  # Total number of samples\n",
    "        train_correct += (predicted == y).sum().item()  # Correct predictions\n",
    "\n",
    "    # Calculate metrics\n",
    "    train_loss = torch.Tensor.item(loss.mean())\n",
    "    train_acc = train_correct / train_total\n",
    "    \n",
    "    return train_loss, train_acc"
   ]
  },
  {
   "cell_type": "code",
   "execution_count": 21,
   "id": "0cb4e8c2",
   "metadata": {},
   "outputs": [],
   "source": [
    "# Train Function\n",
    "def train_model(train_iter, test_iter,model,optimizer,loss_func,epochs):\n",
    "    train_loss = []\n",
    "    train_acc = []\n",
    "    test_accuracy = []\n",
    "    for epoch in range(0,epochs):\n",
    "        train_metrics = train_loop(train_iter,model,optimizer,loss_func)\n",
    "        test_acc = evaluate_accuracy(model,train_iter)\n",
    "        train_loss.append(train_metrics[0])\n",
    "        train_acc.append(train_metrics[1])\n",
    "        test_accuracy.append(test_acc)\n",
    "        # print loss in each epoch\n",
    "        print(f'Epoch: {epoch + 1}, Loss: {train_metrics[0]}, Train Accuracy: {train_metrics[1]}, Test Accuracy: {test_acc}')\n",
    "    \n",
    "    return train_loss, train_acc, test_accuracy\n",
    "        "
   ]
  },
  {
   "cell_type": "code",
   "execution_count": 22,
   "id": "feafa192",
   "metadata": {},
   "outputs": [
    {
     "name": "stdout",
     "output_type": "stream",
     "text": [
      "Epoch: 1, Loss: 0.7640246152877808, Train Accuracy: 0.6679333333333334, Test Accuracy: 0.7462833333333333\n",
      "Epoch: 2, Loss: 0.7137670516967773, Train Accuracy: 0.7669, Test Accuracy: 0.78495\n",
      "Epoch: 3, Loss: 0.646286129951477, Train Accuracy: 0.7909166666666667, Test Accuracy: 0.7980666666666667\n",
      "Epoch: 4, Loss: 0.6156026124954224, Train Accuracy: 0.8025333333333333, Test Accuracy: 0.8062\n",
      "Epoch: 5, Loss: 0.5676910281181335, Train Accuracy: 0.8100333333333334, Test Accuracy: 0.8133333333333334\n",
      "Epoch: 6, Loss: 0.5666754841804504, Train Accuracy: 0.8150166666666666, Test Accuracy: 0.8185\n",
      "Epoch: 7, Loss: 0.5092136263847351, Train Accuracy: 0.82015, Test Accuracy: 0.8233666666666667\n",
      "Epoch: 8, Loss: 0.5486487746238708, Train Accuracy: 0.82315, Test Accuracy: 0.8235833333333333\n",
      "Epoch: 9, Loss: 0.5003964304924011, Train Accuracy: 0.8253333333333334, Test Accuracy: 0.8273333333333334\n",
      "Epoch: 10, Loss: 0.4809359312057495, Train Accuracy: 0.8273166666666667, Test Accuracy: 0.8291\n",
      "Epoch: 11, Loss: 0.5658823251724243, Train Accuracy: 0.8300333333333333, Test Accuracy: 0.8317\n",
      "Epoch: 12, Loss: 0.5086030960083008, Train Accuracy: 0.8314666666666667, Test Accuracy: 0.832\n",
      "Epoch: 13, Loss: 0.4535326063632965, Train Accuracy: 0.8334666666666667, Test Accuracy: 0.8344\n",
      "Epoch: 14, Loss: 0.5060216188430786, Train Accuracy: 0.8342333333333334, Test Accuracy: 0.83505\n",
      "Epoch: 15, Loss: 0.4705066978931427, Train Accuracy: 0.8359666666666666, Test Accuracy: 0.8374666666666667\n"
     ]
    }
   ],
   "source": [
    "# Train model\n",
    "metrics = train_model(train_iter,test_iter, model, optimizer, loss_func, epochs)"
   ]
  },
  {
   "cell_type": "code",
   "execution_count": 23,
   "id": "a9befb2f",
   "metadata": {},
   "outputs": [],
   "source": [
    "import seaborn as sns\n",
    "\n",
    "def plot_graph(metrics):\n",
    "    sns.lineplot(metrics[0], label = \"Train Loss\")\n",
    "    sns.lineplot(metrics[1], label = \"Train Accuracy\")\n",
    "    sns.lineplot(metrics[2], label = \"Test Accuracy\")\n",
    "    plt.show()"
   ]
  },
  {
   "cell_type": "code",
   "execution_count": 24,
   "id": "9ca17e36-f582-4d2d-b007-eaa96f3e9735",
   "metadata": {},
   "outputs": [
    {
     "data": {
      "image/png": "[encoded data removed]",
      "text/plain": [
       "<Figure size 640x480 with 1 Axes>"
      ]
     },
     "metadata": {},
     "output_type": "display_data"
    }
   ],
   "source": [
    "plot_graph(metrics)"
   ]
  },
  {
   "cell_type": "code",
   "execution_count": null,
   "id": "5ef60e66",
   "metadata": {},
   "outputs": [],
   "source": []
  }
 ],
 "metadata": {
  "kernelspec": {
   "display_name": ".venv",
   "language": "python",
   "name": "python3"
  },
  "language_info": {
   "codemirror_mode": {
    "name": "ipython",
    "version": 3
   },
   "file_extension": ".py",
   "mimetype": "text/x-python",
   "name": "python",
   "nbconvert_exporter": "python",
   "pygments_lexer": "ipython3",
   "version": "3.12.3"
  }
 },
 "nbformat": 4,
 "nbformat_minor": 5
}
